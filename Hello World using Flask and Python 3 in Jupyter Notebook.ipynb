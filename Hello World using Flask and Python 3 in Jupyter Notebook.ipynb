{
 "cells": [
  {
   "cell_type": "code",
   "execution_count": 1,
   "metadata": {},
   "outputs": [
    {
     "name": "stdout",
     "output_type": "stream",
     "text": [
      "hello.py has been written\n"
     ]
    }
   ],
   "source": [
    "#Write hello.py\n",
    "f=open('hello.py','w+')\n",
    "f.write('from flask import Flask\\n')\n",
    "f.write('app=Flask(__name__)\\n')\n",
    "f.write('@app.route(\"/\")\\n')\n",
    "f.write('def hello():\\n')\n",
    "f.write('    return \"Hello world!\"\\n')\n",
    "f.close()\n",
    "print(\"hello.py has been written\")"
   ]
  },
  {
   "cell_type": "code",
   "execution_count": null,
   "metadata": {},
   "outputs": [],
   "source": [
    "#Expected Output:\n",
    "\n",
    "#hello.py has been written"
   ]
  },
  {
   "cell_type": "code",
   "execution_count": null,
   "metadata": {},
   "outputs": [
    {
     "name": "stdout",
     "output_type": "stream",
     "text": [
      " * Serving Flask app \"hello.py\"\r\n",
      " * Environment: production\r\n",
      "\u001b[31m   WARNING: Do not use the development server in a production environment.\u001b[0m\r\n",
      "\u001b[2m   Use a production WSGI server instead.\u001b[0m\r\n",
      " * Debug mode: off\r\n",
      " * Running on http://127.0.0.1:5000/ (Press CTRL+C to quit)\r\n"
     ]
    }
   ],
   "source": [
    "!FLASK_APP=hello.py flask run #terminal command"
   ]
  },
  {
   "cell_type": "code",
   "execution_count": null,
   "metadata": {},
   "outputs": [],
   "source": [
    "#Expected Output:\n",
    "\n",
    "#* Serving Flask app \"hello.py\"\n",
    "# * Environment: production\n",
    "#   WARNING: Do not use the development server in a production environment.\n",
    "#   Use a production WSGI server instead.\n",
    "# * Debug mode: off\n",
    "# * Running on http://127.0.0.1:5000/ (Press CTRL+C to quit)"
   ]
  }
 ],
 "metadata": {
  "kernelspec": {
   "display_name": "Python 3",
   "language": "python",
   "name": "python3"
  },
  "language_info": {
   "codemirror_mode": {
    "name": "ipython",
    "version": 3
   },
   "file_extension": ".py",
   "mimetype": "text/x-python",
   "name": "python",
   "nbconvert_exporter": "python",
   "pygments_lexer": "ipython3",
   "version": "3.5.2"
  }
 },
 "nbformat": 4,
 "nbformat_minor": 2
}
